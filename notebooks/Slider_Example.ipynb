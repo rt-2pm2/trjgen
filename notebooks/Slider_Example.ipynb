{
 "cells": [
  {
   "cell_type": "code",
   "execution_count": null,
   "metadata": {},
   "outputs": [],
   "source": [
    "\"\"\"\n",
    "It seems that Plotly makes possible to define its objects, both using the Class \n",
    "formulation or the Dictionary formulation.\n",
    "\n",
    "For example, to plot with Plotly I can pass a Figure object to the function, or \n",
    "I can pass a dictionary containing the components of the Figure object, which \n",
    "are Data and Layout.\n",
    "\n",
    "The Figure class contains Data and Layout. The Data can be expressed as a \n",
    "Trace or as a Dictionary. \n",
    "\n",
    "A \"Trace\" is an Plotly object such as Scatter(), Bar(), etc...\n",
    "\n",
    "                            +--> Trace\n",
    "                +--> Data --+\n",
    "                |           +--> [{type: '', }. {type: ''}]\n",
    "                |\n",
    "Plot --> Figure +\n",
    "                |\n",
    "                |             +--> Layout\n",
    "                +--> Layout --+ \n",
    "                              +--> Dict()\n",
    "    \n",
    "    \n",
    "    \n",
    "\"\"\""
   ]
  },
  {
   "cell_type": "code",
   "execution_count": 15,
   "metadata": {},
   "outputs": [
    {
     "data": {
      "text/html": [
       "        <script type=\"text/javascript\">\n",
       "        window.PlotlyConfig = {MathJaxConfig: 'local'};\n",
       "        if (window.MathJax) {MathJax.Hub.Config({SVG: {font: \"STIX-Web\"}});}\n",
       "        if (typeof require !== 'undefined') {\n",
       "        require.undef(\"plotly\");\n",
       "        requirejs.config({\n",
       "            paths: {\n",
       "                'plotly': ['https://cdn.plot.ly/plotly-latest.min']\n",
       "            }\n",
       "        });\n",
       "        require(['plotly'], function(Plotly) {\n",
       "            window._Plotly = Plotly;\n",
       "        });\n",
       "        }\n",
       "        </script>\n",
       "        "
      ]
     },
     "metadata": {},
     "output_type": "display_data"
    }
   ],
   "source": [
    "import sys\n",
    "sys.path.insert(0, \"../\")\n",
    "sys.path.insert(0, './')\n",
    "\n",
    "import plotly.plotly as py\n",
    "import plotly.graph_objs as go\n",
    "\n",
    "from plotly.offline import init_notebook_mode, iplot\n",
    "\n",
    "# Import stuff for making the plot interactive\n",
    "from ipywidgets import interactive, HBox, VBox\n",
    "import numpy as np\n",
    "\n",
    "init_notebook_mode(connected=True)"
   ]
  },
  {
   "cell_type": "code",
   "execution_count": 16,
   "metadata": {},
   "outputs": [
    {
     "name": "stdout",
     "output_type": "stream",
     "text": [
      "['./', '../', '/usr/lib/python36.zip', '/usr/lib/python3.6', '/usr/lib/python3.6/lib-dynload', '/home/rt-2pm2/mnt/HDD/git/trjgen/venv/lib/python3.6/site-packages', '/home/rt-2pm2/mnt/HDD/git/trjgen/venv/lib/python3.6/site-packages/IPython/extensions', '/home/rt-2pm2/.ipython']\n"
     ]
    }
   ],
   "source": [
    "print(sys.path)\n",
    "\n"
   ]
  },
  {
   "cell_type": "code",
   "execution_count": 17,
   "metadata": {},
   "outputs": [],
   "source": [
    "from trjgen import trjgen_helpers as tjh\n",
    "from trjgen import pltly_helpers as ply\n",
    "from trjgen import pwpoly as pw"
   ]
  },
  {
   "cell_type": "code",
   "execution_count": 18,
   "metadata": {},
   "outputs": [
    {
     "name": "stdout",
     "output_type": "stream",
     "text": [
      "Test with 7th order polynomial.\n",
      "Number of constraint on the flat output = 4.\n"
     ]
    }
   ],
   "source": [
    "# Polynomial characteristic:  order\n",
    "ndeg = 7\n",
    "print('Test with {:d}th order polynomial.'.format(ndeg))\n",
    "\n",
    "## Waipoints in the flat output space (or dimension 3)\n",
    "nconstr = 4\n",
    "print('Number of constraint on the flat output = {:d}.'.format(nconstr))\n",
    "\n",
    "\n",
    "X = np.array([\n",
    "        [ 0,     1.0,    0.5],\n",
    "        [ 0,     0.8,   0.0],\n",
    "        [ 0,   -5.0,     0.0],\n",
    "        [ 0,   np.nan,   0.0],\n",
    "        ])\n",
    "\n",
    "Y = np.array([\n",
    "        [ 0,   0.0,      0.0],\n",
    "        [ 0,   0.0,      0.0],\n",
    "        [ 0,   0.0,      0.0],\n",
    "        [ 0,   np.nan,   0.0],\n",
    "        ])\n",
    "\n",
    "Z = np.array([\n",
    "        [ 0,   0.5,     -0.2],\n",
    "        [ 0,   0.0,      0.0],\n",
    "        [ 0,   0.0,      0.0],\n",
    "        [ 0,   np.nan,   0.0],\n",
    "        ])\n",
    "\n",
    "W = np.array([\n",
    "        [ 0,   np.nan,      0.0],\n",
    "        [ 0,   np.nan,      0.0],\n",
    "        [ 0,   np.nan,      0.0],\n",
    "        [ 0,   np.nan,      0.0],\n",
    "        ])\n"
   ]
  },
  {
   "cell_type": "code",
   "execution_count": 19,
   "metadata": {},
   "outputs": [
    {
     "data": {
      "application/vnd.jupyter.widget-view+json": {
       "model_id": "f99084e4e9e8401b94d6c28802b77cc0",
       "version_major": 2,
       "version_minor": 0
      },
      "text/plain": [
       "VBox(children=(FigureWidget({\n",
       "    'data': [{'marker': {'color': array([0.        , 0.03030303, 0.06060606, 0.0…"
      ]
     },
     "metadata": {},
     "output_type": "display_data"
    }
   ],
   "source": [
    "mid = 1.5\n",
    "Tmax = 3\n",
    "# Times (Absolute and intervals)\n",
    "knots = np.array([0, mid, Tmax]) # One second each piece\n",
    "\n",
    "# Generate the polynomial\n",
    "\n",
    "\n",
    "# Check (Evaluate polynomial)\n",
    "tv = np.linspace(0,max(knots),100);\n",
    "\n",
    "#ppx = pw.PwPoly(X, knots, ndeg)\n",
    "trace1 = go.Scatter3d(\n",
    "            x = X[0, :],\n",
    "            y = Y[0, :],\n",
    "            z = Z[0, :],\n",
    "            mode = 'markers',\n",
    "            marker = dict(\n",
    "                size = 4,\n",
    "                color = tv,\n",
    "                colorscale = 'Viridis',\n",
    "                opacity = 0.8,\n",
    "                colorbar = dict (\n",
    "                    thickness = 20,\n",
    "                    len =  0.5,\n",
    "                    x = 0.8,\n",
    "                    y = 0.6\n",
    "                    )\n",
    "                ),\n",
    "            name = '3D Path'\n",
    "            )\n",
    "\n",
    "data = [trace1]\n",
    "\n",
    "figure = go.Figure(data=data)\n",
    "figure_w = go.FigureWidget(figure)\n",
    "\n",
    "# our function that will modify the xaxis range\n",
    "def update_range(p1):\n",
    "    mid = p1 \n",
    "    knots = np.array([0, mid, 3]) # One second each piece\n",
    "    ppx = pw.PwPoly(X, knots, ndeg)\n",
    "    ppy = pw.PwPoly(Y, knots, ndeg)\n",
    "    ppz = pw.PwPoly(Z, knots, ndeg)\n",
    "    ppw = pw.PwPoly(W, knots, ndeg)\n",
    "    \n",
    "    (Xtj, Ytj, Ztj, Wtj, Zbtj) = tjh.TrajFromPW(tv, [0,1,2], \\\n",
    "        pwpolx=ppx, pwpoly=ppy, pwpolz=ppz, pwpolw = ppw)\n",
    "    \n",
    "    #ply.plotZb_plotly(Xtj, Ytj, Ztj, Zbtj)\n",
    "    \n",
    "    figure_w.data[0].x = Xtj[0]\n",
    "    figure_w.data[0].y = Ytj[0]\n",
    "    figure_w.data[0].z = Ztj[0]\n",
    "    \n",
    "\n",
    "    \n",
    "slider_ = interactive(update_range, p1 = (0.0, Tmax, 0.1))  \n",
    "    \n",
    "# display the FigureWidget and slider with center justification\n",
    "vb = VBox((figure_w, slider_))\n",
    "vb.layout.align_items = 'center'\n",
    "vb\n"
   ]
  }
 ],
 "metadata": {
  "celltoolbar": "Slideshow",
  "kernelspec": {
   "display_name": "Python 3",
   "language": "python",
   "name": "python3"
  },
  "language_info": {
   "codemirror_mode": {
    "name": "ipython",
    "version": 3
   },
   "file_extension": ".py",
   "mimetype": "text/x-python",
   "name": "python",
   "nbconvert_exporter": "python",
   "pygments_lexer": "ipython3",
   "version": "3.6.8"
  }
 },
 "nbformat": 4,
 "nbformat_minor": 2
}
